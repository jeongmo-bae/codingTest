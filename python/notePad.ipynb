{
 "cells": [
  {
   "cell_type": "code",
   "execution_count": 1,
   "metadata": {},
   "outputs": [
    {
     "data": {
      "text/plain": [
       "[[0, 0, 0, 1, 1, 1, 0, 0],\n",
       " [0, 0, 0, 0, 1, 1, 0, 0],\n",
       " [1, 1, 0, 0, 0, 1, 1, 0],\n",
       " [1, 1, 1, 0, 0, 0, 0, 0],\n",
       " [1, 1, 1, 0, 0, 0, 1, 1]]"
      ]
     },
     "execution_count": 1,
     "metadata": {},
     "output_type": "execute_result"
    }
   ],
   "source": [
    "testcase1 = [[0, 0, 0, 1, 1, 1, 0, 0], [0, 0, 0, 0, 1, 1, 0, 0], [1, 1, 0, 0, 0, 1, 1, 0], [1, 1, 1, 0, 0, 0, 0, 0], [1, 1, 1, 0, 0, 0, 1, 1]]\n",
    "testcase1"
   ]
  },
  {
   "cell_type": "code",
   "execution_count": null,
   "metadata": {},
   "outputs": [
    {
     "name": "stdout",
     "output_type": "stream",
     "text": [
      "[ 0 ]\n",
      "8\n",
      "[ 1 ]\n",
      "8\n",
      "[ 2 ]\n",
      "8\n",
      "[ 3 ]\n",
      "7\n",
      "[ 4 ]\n",
      "7\n",
      "[ 5 ]\n",
      "7\n",
      "[ 6 ]\n",
      "9\n",
      "[ 7 ]\n",
      "2\n"
     ]
    }
   ],
   "source": [
    "\n",
    "def detect_petroleum(land,x,y,visited) :\n",
    "    if x < 0 or x >= len(land) or y < 0 or y >= len(land[0]) or [x,y] in visited:\n",
    "        return 0\n",
    "    else :\n",
    "        visited.append([x,y])\n",
    "        if land[x][y] == 1 :\n",
    "            return 1 + detect_petroleum(land,x+1,y,visited) + detect_petroleum(land,x-1,y,visited) + detect_petroleum(land,x,y+1,visited) + detect_petroleum(land,x,y-1,visited)\n",
    "        else : \n",
    "            return 0\n",
    "        \n",
    "for y in range(len(testcase1[0])) : \n",
    "    sum = 0\n",
    "    visited = []\n",
    "    print(\"[\",y,\"]\")\n",
    "    for x in range(len(testcase1)) :\n",
    "        sum = sum +  detect_petroleum(testcase1,x,y,visited) \n",
    "    print(sum)"
   ]
  },
  {
   "cell_type": "code",
   "execution_count": null,
   "metadata": {},
   "outputs": [],
   "source": []
  },
  {
   "cell_type": "code",
   "execution_count": null,
   "metadata": {},
   "outputs": [],
   "source": []
  },
  {
   "cell_type": "code",
   "execution_count": null,
   "metadata": {},
   "outputs": [],
   "source": []
  },
  {
   "cell_type": "code",
   "execution_count": null,
   "metadata": {},
   "outputs": [],
   "source": []
  }
 ],
 "metadata": {
  "kernelspec": {
   "display_name": "Python 3",
   "language": "python",
   "name": "python3"
  },
  "language_info": {
   "codemirror_mode": {
    "name": "ipython",
    "version": 3
   },
   "file_extension": ".py",
   "mimetype": "text/x-python",
   "name": "python",
   "nbconvert_exporter": "python",
   "pygments_lexer": "ipython3",
   "version": "3.9.6"
  }
 },
 "nbformat": 4,
 "nbformat_minor": 2
}
